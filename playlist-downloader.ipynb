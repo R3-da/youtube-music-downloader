{
 "cells": [
  {
   "attachments": {},
   "cell_type": "markdown",
   "metadata": {},
   "source": [
    "Enter Youtube URL"
   ]
  },
  {
   "cell_type": "code",
   "execution_count": 23,
   "metadata": {},
   "outputs": [],
   "source": [
    "# Input the URL of the YouTube playlist you want to download\n",
    "url = \"https://youtube.com/playlist?list=PLyGJ6xqJj7L9G3ep1hAcfgAXgz9j0dJHW\"\n",
    "genre = \"\"\n",
    "channelname_is_artist = True\n",
    "artist = \"\"\n",
    "playlistname_is_album = True\n",
    "album = \"\""
   ]
  },
  {
   "attachments": {},
   "cell_type": "markdown",
   "metadata": {},
   "source": [
    "Download Mp3 File"
   ]
  },
  {
   "cell_type": "code",
   "execution_count": 24,
   "metadata": {},
   "outputs": [
    {
     "name": "stdout",
     "output_type": "stream",
     "text": [
      "[youtube:tab] Extracting URL: https://youtube.com/playlist?list=PLyGJ6xqJj7L9G3ep1hAcfgAXgz9j0dJHW\n",
      "[youtube:tab] PLyGJ6xqJj7L9G3ep1hAcfgAXgz9j0dJHW: Downloading webpage\n",
      "[youtube:tab] PLyGJ6xqJj7L9G3ep1hAcfgAXgz9j0dJHW: Redownloading playlist API JSON with unavailable videos\n",
      "[download] Downloading playlist: test\n",
      "[youtube:tab] Playlist test: Downloading 2 items of 2\n",
      "[download] Downloading item 1 of 2\n",
      "[youtube] Extracting URL: https://www.youtube.com/watch?v=1vkspazPRps\n",
      "[youtube] 1vkspazPRps: Downloading webpage\n",
      "[youtube] 1vkspazPRps: Downloading android player API JSON\n",
      "[info] 1vkspazPRps: Downloading 1 format(s): 251\n",
      "[download] Destination: DON BIGG - ٤in (Album Trailer).webm\n",
      "[download] 100% of  614.43KiB in 00:00:00 at 1.82MiB/s   \n",
      "[ExtractAudio] Destination: DON BIGG - ٤in (Album Trailer).mp3\n",
      "Deleting original file DON BIGG - ٤in (Album Trailer).webm (pass -k to keep)\n",
      "[Metadata] Adding metadata to \"DON BIGG - ٤in (Album Trailer).mp3\"\n",
      "[download] Downloading item 2 of 2\n",
      "[youtube] Extracting URL: https://www.youtube.com/watch?v=NxI1JVWSOB0\n",
      "[youtube] NxI1JVWSOB0: Downloading webpage\n",
      "[youtube] NxI1JVWSOB0: Downloading android player API JSON\n",
      "[info] NxI1JVWSOB0: Downloading 1 format(s): 251\n",
      "[download] Destination: Korineum - Exclusive Stay Experience.webm\n",
      "[download] 100% of  257.59KiB in 00:00:00 at 836.85KiB/s \n",
      "[ExtractAudio] Destination: Korineum - Exclusive Stay Experience.mp3\n",
      "Deleting original file Korineum - Exclusive Stay Experience.webm (pass -k to keep)\n",
      "[Metadata] Adding metadata to \"Korineum - Exclusive Stay Experience.mp3\"\n",
      "[download] Finished downloading playlist: test\n"
     ]
    }
   ],
   "source": [
    "import yt_dlp\n",
    "from mutagen.id3 import ID3, APIC\n",
    "import os\n",
    "\n",
    "# Define the options for downloading\n",
    "ydl_opts = {\n",
    "    'format': 'bestaudio/best',\n",
    "    'outtmpl': '%(title)s.%(ext)s',\n",
    "    'ffmpeg_path': 'C:/ffmpeg/bin/ffmpeg.exe',\n",
    "    'ffprobe_path': 'C:/ffmpeg/bin/ffprobe.exe',\n",
    "    'postprocessors': [{\n",
    "        'key': 'FFmpegExtractAudio',\n",
    "        'preferredcodec': 'mp3',\n",
    "        'preferredquality': '320'\n",
    "    },\n",
    "    {\n",
    "        'key': 'FFmpegMetadata', # Include bitrate metadata\n",
    "    }]\n",
    "}\n",
    "\n",
    "# Download the video and convert it to mp3\n",
    "with yt_dlp.YoutubeDL(ydl_opts) as ydl:\n",
    "    ydl.download([url]) "
   ]
  },
  {
   "cell_type": "code",
   "execution_count": 25,
   "metadata": {},
   "outputs": [
    {
     "name": "stdout",
     "output_type": "stream",
     "text": [
      "[youtube:tab] Extracting URL: https://youtube.com/playlist?list=PLyGJ6xqJj7L9G3ep1hAcfgAXgz9j0dJHW\n",
      "[youtube:tab] PLyGJ6xqJj7L9G3ep1hAcfgAXgz9j0dJHW: Downloading webpage\n",
      "[youtube:tab] PLyGJ6xqJj7L9G3ep1hAcfgAXgz9j0dJHW: Redownloading playlist API JSON with unavailable videos\n",
      "[download] Downloading playlist: test\n",
      "[youtube:tab] Playlist test: Downloading 2 items of 2\n",
      "[download] Downloading item 1 of 2\n",
      "[youtube] Extracting URL: https://www.youtube.com/watch?v=1vkspazPRps\n",
      "[youtube] 1vkspazPRps: Downloading webpage\n",
      "[youtube] 1vkspazPRps: Downloading android player API JSON\n",
      "[download] Downloading item 2 of 2\n",
      "[youtube] Extracting URL: https://www.youtube.com/watch?v=NxI1JVWSOB0\n",
      "[youtube] NxI1JVWSOB0: Downloading webpage\n",
      "[youtube] NxI1JVWSOB0: Downloading android player API JSON\n",
      "[download] Finished downloading playlist: test\n"
     ]
    }
   ],
   "source": [
    "import yt_dlp\n",
    "\n",
    "# Define the options for downloading the thumbnail\n",
    "ydl_opts_thumb = {\n",
    "    'ffmpeg_path': 'C:/ffmpeg/bin/ffmpeg.exe',\n",
    "    'ffprobe_path': 'C:/ffmpeg/bin/ffprobe.exe'\n",
    "}\n",
    "\n",
    "# Create a YoutubeDL object and extract the video information\n",
    "with yt_dlp.YoutubeDL(ydl_opts_thumb) as ydl_thumb:\n",
    "    info_dict = ydl_thumb.extract_info(url, download=False)"
   ]
  },
  {
   "cell_type": "code",
   "execution_count": 27,
   "metadata": {},
   "outputs": [],
   "source": [
    "import os\n",
    "import shutil\n",
    "\n",
    "# create folder with playlist name\n",
    "output_folder_name = info_dict['title']\n",
    "if not os.path.exists(output_folder_name): # Check if the folder already exists\n",
    "    os.makedirs(output_folder_name)\n",
    "    \n",
    "# Loop through all the files in the current directory\n",
    "for file_name in os.listdir():\n",
    "    # Check if the file is an mp3 file\n",
    "    if file_name.endswith('.mp3'):\n",
    "        # Get the full path of the file\n",
    "        file_path = os.path.join('', file_name)\n",
    "        # Move the file to the new directory\n",
    "        shutil.move(file_path, output_folder_name)"
   ]
  },
  {
   "cell_type": "code",
   "execution_count": 28,
   "metadata": {},
   "outputs": [
    {
     "name": "stdout",
     "output_type": "stream",
     "text": [
      "[generic] Extracting URL: https://i.ytimg.com/vi_webp/1vkspazPRps/maxresdefault.webp\n",
      "[generic] maxresdefault: Downloading webpage\n"
     ]
    },
    {
     "name": "stderr",
     "output_type": "stream",
     "text": [
      "WARNING: [generic] Falling back on generic information extractor\n",
      "WARNING: [generic] URL could be a direct video link, returning it as such.\n"
     ]
    },
    {
     "name": "stdout",
     "output_type": "stream",
     "text": [
      "[info] maxresdefault: Downloading 1 format(s): 0\n",
      "[download] Destination: maxresdefault [maxresdefault].webp\n",
      "[download] 100% of  178.66KiB in 00:00:00 at 754.16KiB/s \n",
      "[generic] Extracting URL: https://i.ytimg.com/vi/NxI1JVWSOB0/maxresdefault.jpg\n",
      "[generic] maxresdefault: Downloading webpage\n"
     ]
    },
    {
     "name": "stderr",
     "output_type": "stream",
     "text": [
      "WARNING: [generic] Falling back on generic information extractor\n",
      "WARNING: [generic] URL could be a direct video link, returning it as such.\n"
     ]
    },
    {
     "name": "stdout",
     "output_type": "stream",
     "text": [
      "[info] maxresdefault: Downloading 1 format(s): 0\n",
      "[download] Destination: maxresdefault [maxresdefault].jpg\n",
      "[download] 100% of   55.91KiB in 00:00:00 at 321.53KiB/s \n"
     ]
    }
   ],
   "source": [
    "import os\n",
    "from PIL import Image\n",
    "import glob\n",
    "import cv2\n",
    "from mutagen.id3 import ID3, APIC\n",
    "from IPython.display import Image as Imagey\n",
    "import eyed3\n",
    "\n",
    "output_folder_name = info_dict['title']\n",
    "\n",
    "# Download the playlist thumbnails\n",
    "for entry in info_dict['entries']:\n",
    "\n",
    "    # Download the video thumbnail\n",
    "    thumbnail_url = entry['thumbnail']\n",
    "    with yt_dlp.YoutubeDL(ydl_opts_thumb) as ydl_thumb:\n",
    "        ydl_thumb.download(thumbnail_url)\n",
    "\n",
    "    file_list = glob.glob('maxresdefault*') # find all files starting with thumbnail_filename\n",
    "    if file_list: # check if any files were found\n",
    "        thumbnail_filename = file_list[0] # get the name of the first file\n",
    "\n",
    "    if os.path.splitext(thumbnail_filename)[1] != '.jpg':\n",
    "        # Load the image\n",
    "        img = cv2.imread(thumbnail_filename)\n",
    "        # Convert the image to jpg format and save it\n",
    "        cv2.imwrite(os.path.splitext(thumbnail_filename)[0]+'.jpg', img, [int(cv2.IMWRITE_JPEG_QUALITY), 90])\n",
    "\n",
    "        # Delete the file\n",
    "        os.remove(thumbnail_filename)\n",
    "        \n",
    "        thumbnail_filename = os.path.splitext(thumbnail_filename)[0]+'.jpg'\n",
    "    \n",
    "    # Embed the thumbnail in the generated mp3 file\n",
    "    audio_file = os.path.join(output_folder_name, entry['title']+\".mp3\")\n",
    "    audio = ID3(audio_file)\n",
    "    with open(thumbnail_filename, 'rb') as f:\n",
    "        audio.add(APIC(mime='image/jpeg', type=3, desc=u'Cover', data=f.read()))\n",
    "    audio.save()\n",
    "\n",
    "    # Load the mp3 file\n",
    "    audiofile = eyed3.load(audio_file)\n",
    "    audiofile.tag.comments[0].text += info_dict['webpage_url'] + \"\\n\" + entry['channel_url']\n",
    "    \n",
    "    if not channelname_is_artist:\n",
    "        audiofile.tag.artist = artist\n",
    "    if not playlistname_is_album:\n",
    "        audiofile.tag.album = album\n",
    "    else:\n",
    "        audiofile.tag.album = info_dict['title']\n",
    "    \n",
    "    audiofile.tag.track_num = 0\n",
    "\n",
    "    audiofile.tag.genre = genre\n",
    "\n",
    "    audiofile.tag.save()\n",
    "\n",
    "    # Delete thumbnail\n",
    "    os.remove(thumbnail_filename)"
   ]
  }
 ],
 "metadata": {
  "kernelspec": {
   "display_name": "Python 3",
   "language": "python",
   "name": "python3"
  },
  "language_info": {
   "codemirror_mode": {
    "name": "ipython",
    "version": 3
   },
   "file_extension": ".py",
   "mimetype": "text/x-python",
   "name": "python",
   "nbconvert_exporter": "python",
   "pygments_lexer": "ipython3",
   "version": "3.11.3"
  },
  "orig_nbformat": 4
 },
 "nbformat": 4,
 "nbformat_minor": 2
}
