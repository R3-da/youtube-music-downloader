{
 "cells": [
  {
   "cell_type": "code",
   "execution_count": null,
   "metadata": {},
   "outputs": [],
   "source": [
    "import os\n",
    "import re\n",
    "\n",
    "# Define the directory containing the songs\n",
    "dir_path = \"/path/to/directory\"\n",
    "\n",
    "# Define the regular expression pattern to extract the artist name and song name\n",
    "pattern = re.compile(r\"^(.*) - (.*) \\(.*\\)$\")\n",
    "\n",
    "# Loop through all files in the directory\n",
    "for filename in os.listdir(dir_path):\n",
    "    # Check if the file is an MP3 file\n",
    "    if filename.endswith(\".mp3\"):\n",
    "        # Extract the artist name and song name from the filename\n",
    "        match = pattern.match(filename)\n",
    "        if match:\n",
    "            artist = match.group(1)\n",
    "            song = match.group(2)\n",
    "            \n",
    "            # Rename the file to \"<song name>.mp3\"\n",
    "            new_filename = song + \".mp3\"\n",
    "            os.rename(os.path.join(dir_path, filename), os.path.join(dir_path, new_filename))\n"
   ]
  }
 ],
 "metadata": {
  "language_info": {
   "name": "python"
  },
  "orig_nbformat": 4
 },
 "nbformat": 4,
 "nbformat_minor": 2
}
