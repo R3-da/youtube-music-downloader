{
 "cells": [
  {
   "cell_type": "code",
   "execution_count": 68,
   "metadata": {},
   "outputs": [
    {
     "name": "stdout",
     "output_type": "stream",
     "text": [
      "[youtube] Extracting URL: https://www.youtube.com/watch?v=csL0vOd7tWo\n",
      "[youtube] csL0vOd7tWo: Downloading webpage\n",
      "[youtube] csL0vOd7tWo: Downloading android player API JSON\n",
      "[youtube] Extracting URL: https://www.youtube.com/watch?v=csL0vOd7tWo\n",
      "[youtube] csL0vOd7tWo: Downloading webpage\n",
      "[youtube] csL0vOd7tWo: Downloading android player API JSON\n",
      "[info] csL0vOd7tWo: Downloading 1 format(s): 251\n",
      "[download] Destination: Style Amro Piti Improvisation (Official Music Video).webm\n",
      "[download] 100% of    3.50MiB in 00:00:01 at 2.23MiB/s   \n",
      "[ExtractAudio] Destination: Style Amro Piti Improvisation (Official Music Video).mp3\n",
      "Deleting original file Style Amro Piti Improvisation (Official Music Video).webm (pass -k to keep)\n",
      "[Metadata] Adding metadata to \"Style Amro Piti Improvisation (Official Music Video).mp3\"\n"
     ]
    }
   ],
   "source": [
    "import yt_dlp\n",
    "from mutagen.id3 import ID3, APIC\n",
    "\n",
    "# Define the options for downloading\n",
    "ydl_opts = {\n",
    "    'format': 'bestaudio/best',\n",
    "    'outtmpl': '%(title)s.%(ext)s',\n",
    "    'ffmpeg_path': 'C:/ffmpeg/bin/ffmpeg.exe',\n",
    "    'ffprobe_path': 'C:/ffmpeg/bin/ffprobe.exe',\n",
    "    'postprocessors': [{\n",
    "        'key': 'FFmpegExtractAudio',\n",
    "        'preferredcodec': 'mp3',\n",
    "        'preferredquality': '320'\n",
    "    },\n",
    "    {\n",
    "        'key': 'FFmpegMetadata' # Include bitrate metadata\n",
    "    }],\n",
    "    'addmetadata': True,\n",
    "    'embedthumbnail': True,\n",
    "    'no_check_certificate': True\n",
    "}\n",
    "\n",
    "# Input the URL of the YouTube video you want to download\n",
    "url = \"https://www.youtube.com/watch?v=csL0vOd7tWo\"\n",
    "\n",
    "# Create a YoutubeDL object and extract the video information\n",
    "with yt_dlp.YoutubeDL(ydl_opts) as ydl:\n",
    "    info_dict = ydl.extract_info(url, download=False)\n",
    "\n",
    "# Download the video and convert it to mp3\n",
    "with yt_dlp.YoutubeDL(ydl_opts) as ydl:\n",
    "    ydl.download([url])"
   ]
  },
  {
   "attachments": {},
   "cell_type": "markdown",
   "metadata": {},
   "source": [
    "Download Thumbnail"
   ]
  },
  {
   "cell_type": "code",
   "execution_count": 70,
   "metadata": {},
   "outputs": [
    {
     "name": "stdout",
     "output_type": "stream",
     "text": [
      "[youtube] Extracting URL: https://www.youtube.com/watch?v=csL0vOd7tWo\n",
      "[youtube] csL0vOd7tWo: Downloading webpage\n",
      "[youtube] csL0vOd7tWo: Downloading android player API JSON\n",
      "[generic] Extracting URL: https://i.ytimg.com/vi/csL0vOd7tWo/maxresdefault.jpg\n",
      "[generic] maxresdefault: Downloading webpage\n"
     ]
    },
    {
     "name": "stderr",
     "output_type": "stream",
     "text": [
      "WARNING: [generic] Falling back on generic information extractor\n",
      "WARNING: [generic] URL could be a direct video link, returning it as such.\n"
     ]
    },
    {
     "name": "stdout",
     "output_type": "stream",
     "text": [
      "[info] maxresdefault: Downloading 1 format(s): 0\n",
      "[download] cover.jpg has already been downloaded\n",
      "[download] 100% of   28.07KiB\n",
      "[Metadata] Adding metadata to \"cover.jpg\"\n"
     ]
    }
   ],
   "source": [
    "import yt_dlp\n",
    "from mutagen.id3 import ID3, APIC\n",
    "\n",
    "# Define the options for downloading\n",
    "ydl_opts = {\n",
    "    'format': 'bestaudio/best',\n",
    "    'outtmpl': 'cover.jpg',\n",
    "    'ffmpeg_path': 'C:/ffmpeg/bin/ffmpeg.exe',\n",
    "    'ffprobe_path': 'C:/ffmpeg/bin/ffprobe.exe',\n",
    "    'postprocessors': [\n",
    "    {\n",
    "        'key': 'FFmpegMetadata' # Include bitrate metadata\n",
    "    }],\n",
    "    'addmetadata': True,\n",
    "    'embedthumbnail': True,\n",
    "    'no_check_certificate': True\n",
    "}\n",
    "\n",
    "# Input the URL of the YouTube video you want to download\n",
    "url = \"https://www.youtube.com/watch?v=csL0vOd7tWo\"\n",
    "\n",
    "# Create a YoutubeDL object and extract the video information\n",
    "with yt_dlp.YoutubeDL(ydl_opts) as ydl:\n",
    "    info_dict = ydl.extract_info(url, download=False)\n",
    "\n",
    "# Download the video thumbnail\n",
    "thumbnail_url = info_dict['thumbnail']\n",
    "thumbnail_filename = f\"cover.jpg\"\n",
    "with yt_dlp.YoutubeDL(ydl_opts) as ydl:\n",
    "    ydl.download([thumbnail_url])"
   ]
  },
  {
   "cell_type": "code",
   "execution_count": 71,
   "metadata": {},
   "outputs": [],
   "source": [
    "import os\n",
    "\n",
    "# Embed the thumbnail in the generated mp3 file\n",
    "audio_file = f\"{info_dict['title']}.mp3\"\n",
    "audio = ID3(audio_file)\n",
    "with open(thumbnail_filename, 'rb') as f:\n",
    "    audio.add(APIC(mime='image/jpeg', type=3, desc=u'Cover', data=f.read()))\n",
    "audio.save()\n",
    "\n",
    "# Delete cover.jpg\n",
    "# Check if the file exists\n",
    "if os.path.exists(thumbnail_filename):\n",
    "    # Delete the file\n",
    "    os.remove(thumbnail_filename)\n",
    "    print(\"File deleted successfully\")\n",
    "else:\n",
    "    print(\"File does not exist\")"
   ]
  }
 ],
 "metadata": {
  "kernelspec": {
   "display_name": "Python 3",
   "language": "python",
   "name": "python3"
  },
  "language_info": {
   "codemirror_mode": {
    "name": "ipython",
    "version": 3
   },
   "file_extension": ".py",
   "mimetype": "text/x-python",
   "name": "python",
   "nbconvert_exporter": "python",
   "pygments_lexer": "ipython3",
   "version": "3.11.3"
  },
  "orig_nbformat": 4
 },
 "nbformat": 4,
 "nbformat_minor": 2
}
