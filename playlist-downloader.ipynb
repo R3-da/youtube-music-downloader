{
 "cells": [
  {
   "attachments": {},
   "cell_type": "markdown",
   "metadata": {},
   "source": [
    "Enter Youtube URL"
   ]
  },
  {
   "cell_type": "code",
   "execution_count": 9,
   "metadata": {},
   "outputs": [],
   "source": [
    "# Input the URL of the YouTube playlist you want to download\n",
    "url = \"https://youtube.com/playlist?list=PLyGJ6xqJj7L9G3ep1hAcfgAXgz9j0dJHW\""
   ]
  },
  {
   "attachments": {},
   "cell_type": "markdown",
   "metadata": {},
   "source": [
    "Download Mp3 File"
   ]
  },
  {
   "cell_type": "code",
   "execution_count": 2,
   "metadata": {},
   "outputs": [
    {
     "name": "stdout",
     "output_type": "stream",
     "text": [
      "[youtube:tab] Extracting URL: https://youtube.com/playlist?list=PLyGJ6xqJj7L9G3ep1hAcfgAXgz9j0dJHW\n",
      "[youtube:tab] PLyGJ6xqJj7L9G3ep1hAcfgAXgz9j0dJHW: Downloading webpage\n",
      "[youtube:tab] PLyGJ6xqJj7L9G3ep1hAcfgAXgz9j0dJHW: Redownloading playlist API JSON with unavailable videos\n",
      "[download] Downloading playlist: test\n",
      "[youtube:tab] Playlist test: Downloading 2 items of 2\n",
      "[download] Downloading item 1 of 2\n",
      "[youtube] Extracting URL: https://www.youtube.com/watch?v=csL0vOd7tWo\n",
      "[youtube] csL0vOd7tWo: Downloading webpage\n",
      "[youtube] csL0vOd7tWo: Downloading android player API JSON\n",
      "[info] csL0vOd7tWo: Downloading 1 format(s): 251\n",
      "[download] Destination: Style Amro Piti Improvisation (Official Music Video).webm\n",
      "[download] 100% of    3.50MiB in 00:00:01 at 2.47MiB/s   \n",
      "[ExtractAudio] Destination: Style Amro Piti Improvisation (Official Music Video).mp3\n",
      "Deleting original file Style Amro Piti Improvisation (Official Music Video).webm (pass -k to keep)\n",
      "[Metadata] Adding metadata to \"Style Amro Piti Improvisation (Official Music Video).mp3\"\n",
      "[download] Downloading item 2 of 2\n",
      "[youtube] Extracting URL: https://www.youtube.com/watch?v=1vkspazPRps\n",
      "[youtube] 1vkspazPRps: Downloading webpage\n",
      "[youtube] 1vkspazPRps: Downloading android player API JSON\n",
      "[info] 1vkspazPRps: Downloading 1 format(s): 251\n",
      "[download] Destination: DON BIGG - ٤in (Album Trailer).webm\n",
      "[download] 100% of  614.43KiB in 00:00:00 at 2.00MiB/s   \n",
      "[ExtractAudio] Destination: DON BIGG - ٤in (Album Trailer).mp3\n",
      "Deleting original file DON BIGG - ٤in (Album Trailer).webm (pass -k to keep)\n",
      "[Metadata] Adding metadata to \"DON BIGG - ٤in (Album Trailer).mp3\"\n",
      "[download] Finished downloading playlist: test\n"
     ]
    }
   ],
   "source": [
    "import yt_dlp\n",
    "from mutagen.id3 import ID3, APIC\n",
    "import os\n",
    "\n",
    "# Define the options for downloading\n",
    "ydl_opts = {\n",
    "    'format': 'bestaudio/best',\n",
    "    'outtmpl': '%(title)s.%(ext)s',\n",
    "    'ffmpeg_path': 'C:/ffmpeg/bin/ffmpeg.exe',\n",
    "    'ffprobe_path': 'C:/ffmpeg/bin/ffprobe.exe',\n",
    "    'postprocessors': [{\n",
    "        'key': 'FFmpegExtractAudio',\n",
    "        'preferredcodec': 'mp3',\n",
    "        'preferredquality': '320'\n",
    "    },\n",
    "    {\n",
    "        'key': 'FFmpegMetadata', # Include bitrate metadata\n",
    "    }]\n",
    "}\n",
    "\n",
    "# Download the video and convert it to mp3\n",
    "with yt_dlp.YoutubeDL(ydl_opts) as ydl:\n",
    "    ydl.download([url]) "
   ]
  },
  {
   "cell_type": "code",
   "execution_count": 10,
   "metadata": {},
   "outputs": [
    {
     "name": "stdout",
     "output_type": "stream",
     "text": [
      "[youtube:tab] Extracting URL: https://youtube.com/playlist?list=PLyGJ6xqJj7L9G3ep1hAcfgAXgz9j0dJHW\n",
      "[youtube:tab] PLyGJ6xqJj7L9G3ep1hAcfgAXgz9j0dJHW: Downloading webpage\n",
      "[youtube:tab] PLyGJ6xqJj7L9G3ep1hAcfgAXgz9j0dJHW: Redownloading playlist API JSON with unavailable videos\n",
      "[download] Downloading playlist: test\n",
      "[youtube:tab] Playlist test: Downloading 2 items of 2\n",
      "[download] Downloading item 1 of 2\n",
      "[youtube] Extracting URL: https://www.youtube.com/watch?v=csL0vOd7tWo\n",
      "[youtube] csL0vOd7tWo: Downloading webpage\n",
      "[youtube] csL0vOd7tWo: Downloading android player API JSON\n",
      "[download] Downloading item 2 of 2\n",
      "[youtube] Extracting URL: https://www.youtube.com/watch?v=1vkspazPRps\n",
      "[youtube] 1vkspazPRps: Downloading webpage\n",
      "[youtube] 1vkspazPRps: Downloading android player API JSON\n",
      "[download] Finished downloading playlist: test\n"
     ]
    }
   ],
   "source": [
    "import yt_dlp\n",
    "from mutagen.id3 import ID3, APIC\n",
    "\n",
    "# Define the options for downloading the thumbnail\n",
    "ydl_opts_thumb = {\n",
    "    'ffmpeg_path': 'C:/ffmpeg/bin/ffmpeg.exe',\n",
    "    'ffprobe_path': 'C:/ffmpeg/bin/ffprobe.exe'\n",
    "}\n",
    "\n",
    "# Create a YoutubeDL object and extract the video information\n",
    "with yt_dlp.YoutubeDL(ydl_opts_thumb) as ydl_thumb:\n",
    "    info_dict = ydl_thumb.extract_info(url, download=False)"
   ]
  },
  {
   "cell_type": "code",
   "execution_count": 3,
   "metadata": {},
   "outputs": [
    {
     "name": "stdout",
     "output_type": "stream",
     "text": [
      "[generic] Extracting URL: https://i.ytimg.com/vi/csL0vOd7tWo/maxresdefault.jpg\n",
      "[generic] maxresdefault: Downloading webpage\n"
     ]
    },
    {
     "name": "stderr",
     "output_type": "stream",
     "text": [
      "WARNING: [generic] Falling back on generic information extractor\n",
      "WARNING: [generic] URL could be a direct video link, returning it as such.\n"
     ]
    },
    {
     "name": "stdout",
     "output_type": "stream",
     "text": [
      "[info] maxresdefault: Downloading 1 format(s): 0\n",
      "[download] Destination: maxresdefault [maxresdefault].jpg\n",
      "[download] 100% of   28.07KiB in 00:00:00 at 139.75KiB/s   \n",
      "[generic] Extracting URL: https://i.ytimg.com/vi_webp/1vkspazPRps/maxresdefault.webp\n",
      "[generic] maxresdefault: Downloading webpage\n"
     ]
    },
    {
     "name": "stderr",
     "output_type": "stream",
     "text": [
      "WARNING: [generic] Falling back on generic information extractor\n",
      "WARNING: [generic] URL could be a direct video link, returning it as such.\n"
     ]
    },
    {
     "name": "stdout",
     "output_type": "stream",
     "text": [
      "[info] maxresdefault: Downloading 1 format(s): 0\n",
      "[download] Destination: maxresdefault [maxresdefault].webp\n",
      "[download] 100% of  178.66KiB in 00:00:00 at 592.93KiB/s \n"
     ]
    }
   ],
   "source": [
    "import os\n",
    "\n",
    "# Download the playlist thumbnails\n",
    "for entry in info_dict['entries']:\n",
    "    # Download the video thumbnail\n",
    "    thumbnail_url = entry['thumbnail']\n",
    "    with yt_dlp.YoutubeDL(ydl_opts_thumb) as ydl_thumb:\n",
    "            ydl_thumb.download(thumbnail_url)"
   ]
  },
  {
   "cell_type": "code",
   "execution_count": 26,
   "metadata": {},
   "outputs": [
    {
     "data": {
      "image/png": "[encoded data removed]",
      "text/plain": [
       "<PIL.JpegImagePlugin.JpegImageFile image mode=RGB size=1280x720>"
      ]
     },
     "execution_count": 26,
     "metadata": {},
     "output_type": "execute_result"
    }
   ],
   "source": [
    "img"
   ]
  },
  {
   "cell_type": "code",
   "execution_count": 15,
   "metadata": {},
   "outputs": [
    {
     "data": {
      "text/plain": [
       "'maxresdefault [maxresdefault].jpg'"
      ]
     },
     "execution_count": 15,
     "metadata": {},
     "output_type": "execute_result"
    }
   ],
   "source": [
    "import glob\n",
    "\n",
    "file_list = glob.glob('max*') # find all files starting with \"test\"\n",
    "if file_list: # check if any files were found\n",
    "    first_file = file_list[0] # get the name of the first file\n",
    "\n",
    "first_file"
   ]
  },
  {
   "cell_type": "code",
   "execution_count": 17,
   "metadata": {},
   "outputs": [],
   "source": [
    "# Embed the thumbnail in the generated mp3 file\n",
    "audio_file = \"DON BIGG - ٤in (Album Trailer).mp3\"\n",
    "audio = ID3(audio_file)\n",
    "with open(\"DON BIGG - ٤in (Album Trailer).jpg\", 'rb') as f:\n",
    "    audio.add(APIC(mime='image/jpeg', type=3, desc=u'Cover', data=f.read()))\n",
    "audio.save()"
   ]
  },
  {
   "cell_type": "code",
   "execution_count": 21,
   "metadata": {},
   "outputs": [
    {
     "name": "stdout",
     "output_type": "stream",
     "text": [
      "1\n"
     ]
    }
   ],
   "source": [
    "file_list = glob.glob('maxresdefault*') # find all files starting with thumbnail_filename\n",
    "if file_list: # check if any files were found\n",
    "    print(\"1\")\n",
    "    first_file = file_list[0] # get the name of the first file"
   ]
  },
  {
   "cell_type": "code",
   "execution_count": 22,
   "metadata": {},
   "outputs": [
    {
     "data": {
      "text/plain": [
       "'maxresdefault [maxresdefault].jpg'"
      ]
     },
     "execution_count": 22,
     "metadata": {},
     "output_type": "execute_result"
    }
   ],
   "source": [
    "first_file"
   ]
  },
  {
   "cell_type": "code",
   "execution_count": 29,
   "metadata": {},
   "outputs": [
    {
     "name": "stdout",
     "output_type": "stream",
     "text": [
      "[generic] Extracting URL: https://i.ytimg.com/vi/csL0vOd7tWo/maxresdefault.jpg\n",
      "[generic] maxresdefault: Downloading webpage\n"
     ]
    },
    {
     "name": "stderr",
     "output_type": "stream",
     "text": [
      "WARNING: [generic] Falling back on generic information extractor\n",
      "WARNING: [generic] URL could be a direct video link, returning it as such.\n"
     ]
    },
    {
     "name": "stdout",
     "output_type": "stream",
     "text": [
      "[info] maxresdefault: Downloading 1 format(s): 0\n",
      "[download] Destination: maxresdefault [maxresdefault].jpg\n",
      "[download] 100% of   28.07KiB in 00:00:00 at 163.31KiB/s \n"
     ]
    },
    {
     "ename": "PermissionError",
     "evalue": "[WinError 32] The process cannot access the file because it is being used by another process: 'maxresdefault [maxresdefault].jpg'",
     "output_type": "error",
     "traceback": [
      "\u001b[1;31m---------------------------------------------------------------------------\u001b[0m",
      "\u001b[1;31mPermissionError\u001b[0m                           Traceback (most recent call last)",
      "Cell \u001b[1;32mIn[29], line 25\u001b[0m\n\u001b[0;32m     21\u001b[0m \u001b[39m# Delete thumbnail\u001b[39;00m\n\u001b[0;32m     22\u001b[0m \u001b[39m# Check if the file exists\u001b[39;00m\n\u001b[0;32m     23\u001b[0m \u001b[39mif\u001b[39;00m os\u001b[39m.\u001b[39mpath\u001b[39m.\u001b[39mexists(first_file):\n\u001b[0;32m     24\u001b[0m     \u001b[39m# Delete the file\u001b[39;00m\n\u001b[1;32m---> 25\u001b[0m     os\u001b[39m.\u001b[39;49mremove(first_file)\n\u001b[0;32m     26\u001b[0m     \u001b[39mprint\u001b[39m(\u001b[39m\"\u001b[39m\u001b[39mFile deleted successfully\u001b[39m\u001b[39m\"\u001b[39m)\n\u001b[0;32m     27\u001b[0m \u001b[39melse\u001b[39;00m:\n",
      "\u001b[1;31mPermissionError\u001b[0m: [WinError 32] The process cannot access the file because it is being used by another process: 'maxresdefault [maxresdefault].jpg'"
     ]
    }
   ],
   "source": [
    "import os\n",
    "from PIL import Image\n",
    "import glob\n",
    "\n",
    "# Download the playlist thumbnails\n",
    "for entry in info_dict['entries']:\n",
    "    # Download the video thumbnail\n",
    "    thumbnail_url = entry['thumbnail']\n",
    "    with yt_dlp.YoutubeDL(ydl_opts_thumb) as ydl_thumb:\n",
    "            ydl_thumb.download(thumbnail_url)\n",
    "\n",
    "            thumbnail_filename = entry['title']\n",
    "            file_list = glob.glob('maxresdefault*') # find all files starting with thumbnail_filename\n",
    "            if file_list: # check if any files were found\n",
    "                first_file = file_list[0] # get the name of the first file\n",
    "            \n",
    "            # Load the original thumbnail\n",
    "            img = Image.open(first_file)\n",
    "\n",
    "            if os.path.splitext(first_file)[1] != '.jpg':\n",
    "                # Save the thumbnail in JPEG format\n",
    "                img.save(os.path.splitext(first_file)[0]+'.jpg', 'JPEG')\n",
    "                # Delete the file\n",
    "                os.remove(first_file)\n",
    "            \n",
    "            img.save(first_file, 'JPEG')\n",
    "            \n",
    "            # Embed the thumbnail in the generated mp3 file\n",
    "            audio_file = entry['title']+\".mp3\"\n",
    "            audio = ID3(audio_file)\n",
    "            with open(os.path.splitext(first_file)[0]+'.jpg', 'rb') as f:\n",
    "                audio.add(APIC(mime='image/jpeg', type=3, desc=u'Cover', data=f.read()))\n",
    "            audio.save()\n",
    "\n",
    "            # Delete thumbnail\n",
    "            # Check if the file exists\n",
    "            if os.path.exists(thumbnail_filename):\n",
    "                # Delete the file\n",
    "                os.remove(thumbnail_filename)\n",
    "                print(\"File deleted successfully\")\n",
    "            else:\n",
    "                print(\"File does not exist\")"
   ]
  },
  {
   "cell_type": "code",
   "execution_count": 8,
   "metadata": {},
   "outputs": [
    {
     "ename": "NameError",
     "evalue": "name 'first_file' is not defined",
     "output_type": "error",
     "traceback": [
      "\u001b[1;31m---------------------------------------------------------------------------\u001b[0m",
      "\u001b[1;31mNameError\u001b[0m                                 Traceback (most recent call last)",
      "Cell \u001b[1;32mIn[8], line 1\u001b[0m\n\u001b[1;32m----> 1\u001b[0m first_file\n",
      "\u001b[1;31mNameError\u001b[0m: name 'first_file' is not defined"
     ]
    }
   ],
   "source": [
    "first_file"
   ]
  },
  {
   "cell_type": "code",
   "execution_count": null,
   "metadata": {},
   "outputs": [],
   "source": [
    "import os\n",
    "import glob\n",
    "\n",
    "# Find all MP3 files in the directory\n",
    "mp3_files = glob.glob(os.path.join(\"\", '*.mp3'))\n",
    "\n",
    "# Sort the MP3 files alphabetically\n",
    "mp3_files.sort()\n",
    "\n",
    "# Find all JPG files in the directory\n",
    "jpg_files = glob.glob(os.path.join(\"\", '*.jpg'))\n",
    "\n",
    "# Sort the JPG files alphabetically\n",
    "jpg_files.sort()\n",
    "\n",
    "# Print the list of JPG files\n",
    "print(jpg_files)"
   ]
  },
  {
   "cell_type": "code",
   "execution_count": 119,
   "metadata": {},
   "outputs": [
    {
     "name": "stdout",
     "output_type": "stream",
     "text": [
      "Playlist name: test\n"
     ]
    }
   ],
   "source": [
    "from pytube import Playlist\n",
    "\n",
    "# Replace the URL below with the URL of the YouTube playlist you want to extract the name of\n",
    "playlist_url = url\n",
    "# Create a Playlist object\n",
    "playlist = Playlist(playlist_url)\n",
    "\n",
    "# Get the name of the playlist\n",
    "playlist_name = playlist.title\n",
    "\n",
    "# Print the name of the playlist\n",
    "print(\"Playlist name:\", playlist_name)\n"
   ]
  },
  {
   "cell_type": "code",
   "execution_count": null,
   "metadata": {},
   "outputs": [],
   "source": [
    "from pytube import YouTube\n",
    "\n",
    "# Create a YouTube object with the video URL\n",
    "yt = YouTube('https://www.youtube.com/watch?v=VIDEO_ID')\n",
    "\n",
    "# Get the channel URL from the video object\n",
    "channel_url = yt.author_channel_url\n",
    "\n",
    "print(channel_url)\n"
   ]
  },
  {
   "cell_type": "code",
   "execution_count": 121,
   "metadata": {},
   "outputs": [],
   "source": [
    "import eyed3\n",
    "\n",
    "# Load the mp3 file\n",
    "audiofile = eyed3.load(\"Style Amro Piti Improvisation (Official Music Video).mp3\")\n",
    "\n",
    "# Change the title metadata\n",
    "audiofile.tag.title = \"New Title\"\n",
    "\n",
    "# Change the artist metadata\n",
    "audiofile.tag.artist = \"New Artist\"\n",
    "\n",
    "# Save the changes to the mp3 file\n",
    "audiofile.tag.save()"
   ]
  },
  {
   "cell_type": "code",
   "execution_count": 134,
   "metadata": {},
   "outputs": [
    {
     "name": "stdout",
     "output_type": "stream",
     "text": [
      "[youtube] Extracting URL: https://www.youtube.com/watch?v=csL0vOd7tWo\n",
      "[youtube] csL0vOd7tWo: Downloading webpage\n",
      "[youtube] csL0vOd7tWo: Downloading android player API JSON\n",
      "https://www.youtube.com/channel/UCd8Vxtdk7pYkbgze85e_yWg\n"
     ]
    }
   ],
   "source": [
    "import yt_dlp\n",
    "\n",
    "url = \"https://www.youtube.com/watch?v=csL0vOd7tWo\"\n",
    "\n",
    "# Create a YouTubeDL object\n",
    "ydl = yt_dlp.YoutubeDL()\n",
    "\n",
    "# Extract the channel information\n",
    "channel_info = ydl.extract_info(url, download=False)\n",
    "\n",
    "# Get the channel link from the information\n",
    "channel_link = channel_info['channel_url']\n",
    "\n",
    "# Print the channel link\n",
    "print(channel_link)"
   ]
  },
  {
   "cell_type": "code",
   "execution_count": null,
   "metadata": {},
   "outputs": [],
   "source": [
    "# Download the video thumbnail\n",
    "thumbnail_url = info_dict['thumbnail']\n",
    "thumbnail_filename = f\"cover.jpg\"\n",
    "with yt_dlp.YoutubeDL(ydl_opts) as ydl_thumb:\n",
    "    ydl_thumb.download([thumbnail_url])"
   ]
  }
 ],
 "metadata": {
  "kernelspec": {
   "display_name": "Python 3",
   "language": "python",
   "name": "python3"
  },
  "language_info": {
   "codemirror_mode": {
    "name": "ipython",
    "version": 3
   },
   "file_extension": ".py",
   "mimetype": "text/x-python",
   "name": "python",
   "nbconvert_exporter": "python",
   "pygments_lexer": "ipython3",
   "version": "3.11.3"
  },
  "orig_nbformat": 4
 },
 "nbformat": 4,
 "nbformat_minor": 2
}
