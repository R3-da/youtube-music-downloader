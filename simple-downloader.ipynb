{
 "cells": [
  {
   "cell_type": "code",
   "execution_count": 171,
   "metadata": {},
   "outputs": [],
   "source": [
    "import re\n",
    "\n",
    "def remove_invalid_chars(string):\n",
    "    \"\"\"Removes characters not allowed in file names\"\"\"\n",
    "    invalid_chars = r'[\\\\/:\"*?<>|｜]'  # characters not allowed in file names\n",
    "    return re.sub(invalid_chars, '', string)"
   ]
  },
  {
   "attachments": {},
   "cell_type": "markdown",
   "metadata": {},
   "source": [
    "Enter Youtube URL"
   ]
  },
  {
   "cell_type": "code",
   "execution_count": 172,
   "metadata": {},
   "outputs": [],
   "source": [
    "# Input the URL of the YouTube video you want to download\n",
    "url = \"https://www.youtube.com/watch?v=80B2gIoU1H0\"\n",
    "genre = \"Way Way\"\n",
    "channelname_is_artist = False\n",
    "artist = \"Cheb Bello\"\n",
    "album = \"\"\n",
    "videoname_is_songname = False\n",
    "songname = \"3inehom Mesawsa\""
   ]
  },
  {
   "attachments": {},
   "cell_type": "markdown",
   "metadata": {},
   "source": [
    "Download Mp3 File"
   ]
  },
  {
   "cell_type": "code",
   "execution_count": 173,
   "metadata": {},
   "outputs": [
    {
     "name": "stdout",
     "output_type": "stream",
     "text": [
      "[youtube] Extracting URL: https://www.youtube.com/watch?v=80B2gIoU1H0\n",
      "[youtube] 80B2gIoU1H0: Downloading webpage\n",
      "[youtube] 80B2gIoU1H0: Downloading android player API JSON\n",
      "[info] 80B2gIoU1H0: Downloading 1 format(s): 251\n",
      "[download] Destination: Cheb Bello feat dj Moulay - 3inehom Mesawsa ©️2020 Clip Officiel By Harmonie ｜ شلب بيلو- عينهم مسوسة.webm\n",
      "[download] 100% of    4.02MiB in 00:00:01 at 2.39MiB/s   \n",
      "[ExtractAudio] Destination: Cheb Bello feat dj Moulay - 3inehom Mesawsa ©️2020 Clip Officiel By Harmonie ｜ شلب بيلو- عينهم مسوسة.mp3\n",
      "Deleting original file Cheb Bello feat dj Moulay - 3inehom Mesawsa ©️2020 Clip Officiel By Harmonie ｜ شلب بيلو- عينهم مسوسة.webm (pass -k to keep)\n",
      "[Metadata] Adding metadata to \"Cheb Bello feat dj Moulay - 3inehom Mesawsa ©️2020 Clip Officiel By Harmonie ｜ شلب بيلو- عينهم مسوسة.mp3\"\n"
     ]
    }
   ],
   "source": [
    "import yt_dlp\n",
    "from mutagen.id3 import ID3, APIC\n",
    "\n",
    "# Define the options for downloading\n",
    "ydl_opts = {\n",
    "    'format': 'bestaudio/best',\n",
    "    'outtmpl': '%(title)s.%(ext)s',\n",
    "    'ffmpeg_path': 'C:/ffmpeg/bin/ffmpeg.exe',\n",
    "    'ffprobe_path': 'C:/ffmpeg/bin/ffprobe.exe',\n",
    "    'postprocessors': [{\n",
    "        'key': 'FFmpegExtractAudio',\n",
    "        'preferredcodec': 'mp3',\n",
    "        'preferredquality': '320'\n",
    "    },\n",
    "    {\n",
    "        'key': 'FFmpegMetadata', # Include bitrate metadata\n",
    "    }]\n",
    "}\n",
    "\n",
    "# Create a YoutubeDL object and extract the video information\n",
    "with yt_dlp.YoutubeDL(ydl_opts) as ydl:\n",
    "    ydl.download([url])\n",
    "    "
   ]
  },
  {
   "attachments": {},
   "cell_type": "markdown",
   "metadata": {},
   "source": [
    "Download Thumbnail"
   ]
  },
  {
   "cell_type": "code",
   "execution_count": 174,
   "metadata": {},
   "outputs": [
    {
     "name": "stdout",
     "output_type": "stream",
     "text": [
      "[youtube] Extracting URL: https://www.youtube.com/watch?v=80B2gIoU1H0\n",
      "[youtube] 80B2gIoU1H0: Downloading webpage\n",
      "[youtube] 80B2gIoU1H0: Downloading android player API JSON\n"
     ]
    }
   ],
   "source": [
    "import yt_dlp\n",
    "\n",
    "# Define the options for downloading the thumbnail\n",
    "ydl_opts_thumb = {\n",
    "    'ffmpeg_path': 'C:/ffmpeg/bin/ffmpeg.exe',\n",
    "    'ffprobe_path': 'C:/ffmpeg/bin/ffprobe.exe'\n",
    "}\n",
    "\n",
    "# Create a YoutubeDL object and extract the video information\n",
    "with yt_dlp.YoutubeDL(ydl_opts_thumb) as ydl_thumb:\n",
    "    info_dict = ydl_thumb.extract_info(url, download=False)"
   ]
  },
  {
   "cell_type": "code",
   "execution_count": 175,
   "metadata": {},
   "outputs": [],
   "source": [
    "import os\n",
    "import shutil\n",
    "from unidecode import unidecode\n",
    "\n",
    "# create folder with playlist name\n",
    "output_folder_name = os.path.join(\"Downloads\", \"\")\n",
    "if not os.path.exists(output_folder_name): # Check if the folder already exists\n",
    "    os.makedirs(output_folder_name)\n",
    "    \n",
    "# Loop through all the files in the current directory\n",
    "for file_name in os.listdir():\n",
    "    # Check if the file is an mp3 file\n",
    "    if file_name.endswith('.mp3'):\n",
    "        # Get the full path of the file\n",
    "        file_path = os.path.join('', file_name)\n",
    "        # Move the file to the new directory\n",
    "        shutil.move(file_path, output_folder_name)\n",
    "        # Remove error character in file_name\n",
    "        os.rename(os.path.join(output_folder_name, file_name), os.path.join(output_folder_name, remove_invalid_chars(os.path.splitext(file_name)[0].title()+\".mp3\")))"
   ]
  },
  {
   "attachments": {},
   "cell_type": "markdown",
   "metadata": {},
   "source": [
    "Assign Thumbnail To Audio File And Delete .jpg File"
   ]
  },
  {
   "cell_type": "code",
   "execution_count": 176,
   "metadata": {},
   "outputs": [
    {
     "name": "stdout",
     "output_type": "stream",
     "text": [
      "[generic] Extracting URL: https://i.ytimg.com/vi_webp/80B2gIoU1H0/maxresdefault.webp\n",
      "[generic] maxresdefault: Downloading webpage\n"
     ]
    },
    {
     "name": "stderr",
     "output_type": "stream",
     "text": [
      "WARNING: [generic] Falling back on generic information extractor\n",
      "WARNING: [generic] URL could be a direct video link, returning it as such.\n"
     ]
    },
    {
     "name": "stdout",
     "output_type": "stream",
     "text": [
      "[info] maxresdefault: Downloading 1 format(s): 0\n",
      "[download] Destination: maxresdefault [maxresdefault].webp\n",
      "[download] 100% of   44.40KiB in 00:00:00 at 240.16KiB/s \n"
     ]
    },
    {
     "name": "stderr",
     "output_type": "stream",
     "text": [
      "Non standard genre name: Way Way\n"
     ]
    }
   ],
   "source": [
    "import os\n",
    "from PIL import Image\n",
    "import glob\n",
    "import cv2\n",
    "from mutagen.id3 import ID3, APIC\n",
    "from IPython.display import Image as Imagey\n",
    "import eyed3\n",
    "from unidecode import unidecode\n",
    "\n",
    "# Download the playlist thumbnails\n",
    "entry = info_dict\n",
    "\n",
    "# Download the video thumbnail\n",
    "thumbnail_url = entry['thumbnail']\n",
    "with yt_dlp.YoutubeDL(ydl_opts_thumb) as ydl_thumb:\n",
    "    ydl_thumb.download(thumbnail_url)\n",
    "\n",
    "file_list = glob.glob(\"*.png\") + glob.glob(\"*.jpg\") + glob.glob(\"*.jpeg\") + glob.glob(\"*.webp\") # find all files starting with thumbnail_filename\n",
    "if file_list: # check if any files were found\n",
    "    thumbnail_filename = file_list[0] # get the name of the first file\n",
    "\n",
    "if os.path.splitext(thumbnail_filename)[1] != '.jpg':\n",
    "    # Load the image\n",
    "    img = cv2.imread(thumbnail_filename)\n",
    "    # Convert the image to jpg format and save it\n",
    "    cv2.imwrite(os.path.splitext(thumbnail_filename)[0]+'.jpg', img, [int(cv2.IMWRITE_JPEG_QUALITY), 90])\n",
    "\n",
    "    # Delete the file\n",
    "    os.remove(thumbnail_filename)\n",
    "    \n",
    "    thumbnail_filename = os.path.splitext(thumbnail_filename)[0]+'.jpg'\n",
    "\n",
    "# Embed the thumbnail in the generated mp3 file\n",
    "audio_file = os.path.join(output_folder_name, remove_invalid_chars(entry['title']).title()+\".mp3\")\n",
    "audio = ID3(audio_file)\n",
    "with open(thumbnail_filename, 'rb') as f:\n",
    "    audio.add(APIC(mime='image/jpeg', type=3, desc=u'Cover', data=f.read()))\n",
    "audio.save()\n",
    "\n",
    "# Load the mp3 file\n",
    "audiofile = eyed3.load(audio_file)\n",
    "audiofile.tag.comments[0].text += info_dict['webpage_url'] + \"\\n\" + entry['channel_url']\n",
    "\n",
    "if not channelname_is_artist:\n",
    "    audiofile.tag.artist = artist\n",
    "\n",
    "if not videoname_is_songname:\n",
    "    audiofile.tag.title = songname\n",
    "\n",
    "audiofile.tag.album = album\n",
    "\n",
    "audiofile.tag.track_num = 0\n",
    "\n",
    "audiofile.tag.genre = genre\n",
    "\n",
    "audiofile.tag.save()\n",
    "\n",
    "if not videoname_is_songname:\n",
    "    os.rename(audio_file, os.path.join(output_folder_name, songname+\".mp3\"))\n",
    "\n",
    "# Delete thumbnail\n",
    "os.remove(thumbnail_filename)"
   ]
  }
 ],
 "metadata": {
  "kernelspec": {
   "display_name": "Python 3",
   "language": "python",
   "name": "python3"
  },
  "language_info": {
   "codemirror_mode": {
    "name": "ipython",
    "version": 3
   },
   "file_extension": ".py",
   "mimetype": "text/x-python",
   "name": "python",
   "nbconvert_exporter": "python",
   "pygments_lexer": "ipython3",
   "version": "3.11.3"
  },
  "orig_nbformat": 4
 },
 "nbformat": 4,
 "nbformat_minor": 2
}
